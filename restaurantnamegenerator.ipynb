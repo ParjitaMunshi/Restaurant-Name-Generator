{
 "cells": [
  {
   "cell_type": "markdown",
   "id": "e4fdd810-711e-4868-91c2-cc48189ec1cf",
   "metadata": {},
   "source": [
    "# Importing OpenAI API key"
   ]
  },
  {
   "cell_type": "code",
   "execution_count": 1,
   "id": "c01546c2-3fec-4e1f-abec-9d2c5657f08c",
   "metadata": {},
   "outputs": [],
   "source": [
    "import os\n",
    "os.environ['OPENAI_API_KEY'] = \"\""
   ]
  },
  {
   "cell_type": "markdown",
   "id": "aad4bcd9-50b2-4dc4-8f0b-6fb853dd85df",
   "metadata": {},
   "source": [
    "# Import OpenAI from langchain and set temprature when it's 0 it is safest model andnot very innovative and 1 so model take risk and innovative"
   ]
  },
  {
   "cell_type": "code",
   "execution_count": 2,
   "id": "daeb9234-4128-4dbe-8899-9fd7ee9752df",
   "metadata": {},
   "outputs": [
    {
     "name": "stderr",
     "output_type": "stream",
     "text": [
      "C:\\Users\\parjita\\AppData\\Local\\Programs\\Python\\Python312\\Lib\\site-packages\\langchain_core\\_api\\deprecation.py:139: LangChainDeprecationWarning: The method `BaseLLM.__call__` was deprecated in langchain-core 0.1.7 and will be removed in 0.3.0. Use invoke instead.\n",
      "  warn_deprecated(\n"
     ]
    },
    {
     "name": "stdout",
     "output_type": "stream",
     "text": [
      "\n",
      "\n",
      "\"La Dolce Vita Trattoria\" (The Sweet Life Trattoria)\n"
     ]
    }
   ],
   "source": [
    "# from langchain.llms import OpenAI\n",
    "from langchain_openai import OpenAI\n",
    "\n",
    "llm = OpenAI(temperature=0.6)\n",
    "name = llm(\"I want to open a restaurant for Italian Food. Suggest a fency name for that\")\n",
    "print(name)"
   ]
  },
  {
   "cell_type": "markdown",
   "id": "f692f87b-5940-4b8e-8ae5-cbae949a5457",
   "metadata": {},
   "source": [
    "# Import prompt table and set input and prompt"
   ]
  },
  {
   "cell_type": "code",
   "execution_count": 3,
   "id": "6725d807-c614-4bfc-8245-e6e145256abe",
   "metadata": {},
   "outputs": [
    {
     "data": {
      "text/plain": [
       "'I want to open a restaurant for maxican food.Suggest a fency name for that'"
      ]
     },
     "execution_count": 3,
     "metadata": {},
     "output_type": "execute_result"
    }
   ],
   "source": [
    "from langchain.prompts import PromptTemplate\n",
    "\n",
    "prompt_template_name = PromptTemplate(\n",
    "    input_variables = ['cusine'],\n",
    "    template = \"I want to open a restaurant for {cusine} food.Suggest a fency name for that\"\n",
    ")\n",
    "\n",
    "prompt_template_name.format(cusine = \"maxican\")"
   ]
  },
  {
   "cell_type": "markdown",
   "id": "e3824a2a-8196-49ae-96d2-10c584a07f38",
   "metadata": {},
   "source": [
    "# Import LLMChain and use chain"
   ]
  },
  {
   "cell_type": "code",
   "execution_count": 4,
   "id": "58c86af0-05ea-4b92-b9c7-2dc414d7fd47",
   "metadata": {},
   "outputs": [
    {
     "name": "stderr",
     "output_type": "stream",
     "text": [
      "C:\\Users\\parjita\\AppData\\Local\\Programs\\Python\\Python312\\Lib\\site-packages\\langchain_core\\_api\\deprecation.py:139: LangChainDeprecationWarning: The class `LLMChain` was deprecated in LangChain 0.1.17 and will be removed in 1.0. Use RunnableSequence, e.g., `prompt | llm` instead.\n",
      "  warn_deprecated(\n",
      "C:\\Users\\parjita\\AppData\\Local\\Programs\\Python\\Python312\\Lib\\site-packages\\langchain_core\\_api\\deprecation.py:139: LangChainDeprecationWarning: The method `Chain.run` was deprecated in langchain 0.1.0 and will be removed in 0.3.0. Use invoke instead.\n",
      "  warn_deprecated(\n"
     ]
    },
    {
     "data": {
      "text/plain": [
       "'\\n\\n\"Stateside Bistro\"'"
      ]
     },
     "execution_count": 4,
     "metadata": {},
     "output_type": "execute_result"
    }
   ],
   "source": [
    "from langchain.chains import LLMChain\n",
    "\n",
    "chain = LLMChain(llm=llm, prompt=prompt_template_name)\n",
    "chain.run(\"American\")"
   ]
  },
  {
   "cell_type": "markdown",
   "id": "489ade06-e13d-4c90-b578-7c6375802f26",
   "metadata": {},
   "source": [
    "# Simple Sequential Chain"
   ]
  },
  {
   "cell_type": "code",
   "execution_count": 5,
   "id": "dad108e2-69e1-49e7-8cab-dc730b5263cb",
   "metadata": {},
   "outputs": [],
   "source": [
    "from langchain.prompts import PromptTemplate\n",
    "\n",
    "prompt_template_name = PromptTemplate(\n",
    "    input_variables = ['cusine'],\n",
    "    template = \"I want to open a restaurant for {cusine} food.Suggest a fency name for that\"\n",
    ")\n",
    "\n",
    "name_chain = LLMChain(llm=llm, prompt=prompt_template_name)\n",
    "\n",
    "prompt_template_items = PromptTemplate(\n",
    "    input_variables = ['restaurant name'],\n",
    "    template = \"Suggest some menu items for {restaurant_name},Return it as a coma seperate\"\n",
    ")\n",
    "\n",
    "food_items_chain = LLMChain(llm=llm, prompt=prompt_template_items)"
   ]
  },
  {
   "cell_type": "code",
   "execution_count": 6,
   "id": "4ed277f0-0b42-475c-87fe-dc08f5dd71e5",
   "metadata": {},
   "outputs": [
    {
     "name": "stdout",
     "output_type": "stream",
     "text": [
      " string\n",
      "\n",
      "1. Ensalada de la casa (house salad)\n",
      "2. Tacos al pastor (marinated pork tacos)\n",
      "3. Quesadillas de hongos (mushroom quesadillas)\n",
      "4. Arroz con pollo (chicken and rice)\n",
      "5. Sopa de tortilla (tortilla soup)\n",
      "6. Camarones a la diabla (spicy shrimp)\n",
      "7. Carne asada (grilled steak)\n",
      "8. Fajitas mixtas (mixed fajitas)\n",
      "9. Chiles rellenos (stuffed peppers)\n",
      "10. Flautas de pollo (chicken flautas)\n",
      "11. Enchiladas suizas (Swiss-style enchiladas)\n",
      "12. Tostadas de ceviche (ceviche tostadas)\n",
      "13. Pescado a la veracruzana (Veracruz-style fish)\n",
      "14. Chilaquiles verdes (green chilaquiles)\n",
      "15. Postre de tres leches (tres leches cake)\n"
     ]
    }
   ],
   "source": [
    "from langchain.chains import SimpleSequentialChain\n",
    "\n",
    "chain = SimpleSequentialChain(chains = [name_chain,food_items_chain])\n",
    "response = chain.run(\"Maxican\")\n",
    "print(response)"
   ]
  },
  {
   "cell_type": "code",
   "execution_count": 7,
   "id": "2eb65033-e39e-46ba-8503-63237d003b42",
   "metadata": {},
   "outputs": [],
   "source": [
    "llm = OpenAI(temperature=0.7)\n",
    "\n",
    "prompt_template_name = PromptTemplate(\n",
    "    input_variables = ['cusine'],\n",
    "    template = \"I want to open a restaurant for {cusine} food.Suggest a fency name for that\"\n",
    ")\n",
    "\n",
    "name_chain = LLMChain(llm=llm, prompt=prompt_template_name, output_key=\"restaurant_name\")\n",
    "\n",
    "llm = OpenAI(temperature=0.7)\n",
    "\n",
    "prompt_template_items = PromptTemplate(\n",
    "    input_variables = ['restaurant name'],\n",
    "    template = \"Suggest some menu items for {restaurant_name}.\"\n",
    ")\n",
    "\n",
    "food_items_chain = LLMChain(llm=llm, prompt=prompt_template_items, output_key=\"menu_items\")"
   ]
  },
  {
   "cell_type": "code",
   "execution_count": 8,
   "id": "8ec0322d-b55e-4e32-826b-2b3b04a3de95",
   "metadata": {},
   "outputs": [
    {
     "name": "stderr",
     "output_type": "stream",
     "text": [
      "C:\\Users\\parjita\\AppData\\Local\\Programs\\Python\\Python312\\Lib\\site-packages\\langchain_core\\_api\\deprecation.py:139: LangChainDeprecationWarning: The method `Chain.__call__` was deprecated in langchain 0.1.0 and will be removed in 0.3.0. Use invoke instead.\n",
      "  warn_deprecated(\n"
     ]
    },
    {
     "data": {
      "text/plain": [
       "{'cusine': 'Arabic',\n",
       " 'restaurant_name': '\\n\\n1. \"Al-Majlis\" (The Gathering)\\n2. \"Sultana\\'s Kitchen\"\\n3. \"Sahara\\'s Oasis\"\\n4. \"Falafel Palace\"\\n5. \"Hummus Heaven\"\\n6. \"The Arabian Feast\"\\n7. \"Oriental Delights\"\\n8. \"The Sultan\\'s Table\"\\n9. \"Shawarma Kingdom\"\\n10. \"Arabian Nights Cuisine\"',\n",
       " 'menu_items': ' \\n\\n1. \"Al-Majlis\" (The Gathering):\\n- Mezze platter with hummus, baba ghanoush, stuffed grape leaves, and falafel\\n- Lamb kabobs with grilled vegetables\\n- Chicken shawarma wrap with garlic sauce and pickles\\n- Vegetable tagine with couscous\\n- Baklava for dessert\\n\\n2. \"Sultana\\'s Kitchen\":\\n- Lamb kofta kebabs with tzatziki sauce\\n- Chicken shawarma salad with tahini dressing\\n- Spinach and feta borek (phyllo pastry)\\n- Tabouleh salad\\n- Mixed grill platter with lamb, chicken, and beef skewers\\n- Baklava cheesecake for dessert\\n\\n3. \"Sahara\\'s Oasis\":\\n- Falafel platter with tahini sauce\\n- Beef shawarma wrap with sumac onions and pickles\\n- Moroccan chicken tagine with apricots and almonds\\n- Fattoush salad with pita chips\\n- Baklava ice cream for dessert\\n\\n4. \"Falafel Palace\":\\n- Falafel pita sandwich with hummus and tabouleh\\n- Beef kofta platter with rice and grilled vegetables\\n'}"
      ]
     },
     "execution_count": 8,
     "metadata": {},
     "output_type": "execute_result"
    }
   ],
   "source": [
    "from langchain.chains import SequentialChain\n",
    "\n",
    "chain = SequentialChain(\n",
    "    chains = [name_chain, food_items_chain],\n",
    "    input_variables = ['cusine'],\n",
    "    output_variables = ['restaurant_name','menu_items']\n",
    ")\n",
    "\n",
    "chain({'cusine':'Arabic'})"
   ]
  },
  {
   "cell_type": "markdown",
   "id": "e7afebe0-0f05-4e90-b0ed-0f36d3cca539",
   "metadata": {},
   "source": [
    "# Use Langchain Agent"
   ]
  },
  {
   "cell_type": "code",
   "execution_count": 9,
   "id": "85744b88-62fd-4b4d-8f88-b22765f92677",
   "metadata": {},
   "outputs": [
    {
     "name": "stderr",
     "output_type": "stream",
     "text": [
      "C:\\Users\\parjita\\AppData\\Local\\Programs\\Python\\Python312\\Lib\\site-packages\\langchain_core\\_api\\deprecation.py:139: LangChainDeprecationWarning: The function `initialize_agent` was deprecated in LangChain 0.1.0 and will be removed in 0.3.0. Use Use new agent constructor methods like create_react_agent, create_json_agent, create_structured_chat_agent, etc. instead.\n",
      "  warn_deprecated(\n"
     ]
    },
    {
     "name": "stdout",
     "output_type": "stream",
     "text": [
      "\n",
      "\n",
      "\u001b[1m> Entering new AgentExecutor chain...\u001b[0m\n",
      "\u001b[32;1m\u001b[1;3m We need to use wikipedia to find out when Elon Musk was born and then use Calculator to find his current age in 2023.\n",
      "Action: wikipedia\n",
      "Action Input: \"Elon Musk\"\u001b[0m\n",
      "Observation: \u001b[36;1m\u001b[1;3mPage: Elon Musk\n",
      "Summary: Elon Reeve Musk (; born June 28, 1971) is a businessman and investor known for his key roles in space company SpaceX and automotive company Tesla, Inc. Other involvements include ownership of X Corp., formerly Twitter, and his role in the founding of The Boring Company, xAI, Neuralink and OpenAI. He is one of the wealthiest people in the world; as of July 2024, Forbes estimates his net worth to be US$221 billion.\n",
      "Musk was born in Pretoria to Maye and engineer Errol Musk, and briefly attended the University of Pretoria before immigrating to Canada at age 18, acquiring citizenship through his Canadian-born mother. Two years later, he matriculated at Queen's University at Kingston in Canada. Musk later transferred to the University of Pennsylvania and received bachelor's degrees in economics and physics. He moved to California in 1995 to attend Stanford University, but dropped out after two days and, with his brother Kimbal, co-founded online city guide software company Zip2. The startup was acquired by Compaq for $307 million in 1999. That same year, Musk co-founded X.com, a direct bank. X.com merged with Confinity in 2000 to form PayPal. In October 2002, eBay acquired PayPal for $1.5 billion. Using $100 million of the money he made from the sale of PayPal, Musk founded SpaceX, a spaceflight services company, in 2002. \n",
      "In 2004, Musk was an early investor who provided most of the initial financing in electric vehicle manufacturer Tesla Motors, Inc. (later Tesla, Inc.), assuming the position of the company's chairman. He later became the product architect, and in 2008 the CEO. In 2006, Musk helped create SolarCity, a solar-energy company that was acquired by Tesla in 2016 and became Tesla Energy. In 2013, he proposed a hyperloop high-speed vactrain transportation system. In 2015, he co-founded OpenAI, a nonprofit artificial intelligence research company. The following year, Musk co-founded Neuralink—a neurotechnology company developing brain–computer interfaces—and The Boring Company, a tunnel construction company. In 2018, the U.S. Securities and Exchange Commission (SEC) sued Musk, alleging that he had falsely announced that he had secured funding for a private takeover of Tesla. To settle the case, Musk stepped down as the chairman of Tesla and paid a $20 million fine. In 2022, he acquired Twitter for $44 billion. He subsequently merged the company into newly created X Corp. and rebranded the service as X the following year. In March 2023, Musk founded xAI, an artificial intelligence company.\n",
      "Musk has expressed views that have made him a polarizing figure. He has been criticized for making unscientific and misleading statements, including COVID-19 misinformation, promoting right-wing conspiracy theories, and \"endorsing an antisemitic theory\", the latter of which he later apologized for. His ownership of Twitter has been similarly controversial, being marked by layoffs of large numbers of employees, an increase in hate speech, misinformation and disinformation posts on the website, and changes to Twitter Blue verification.\n",
      "\n",
      "Page: Views of Elon Musk\n",
      "Summary: Elon Musk is the CEO or owner of multiple companies including Tesla, SpaceX, and X Corp, and has expressed many views on a wide variety of subjects, ranging from politics to science.\n",
      "Within the context of American politics, Musk has said he supported Barack Obama in 2008 and 2012, Hillary Clinton in 2016, and Joe Biden in 2020. In 2022, Musk said he would start voting for Republican Party candidates, with him showing support for Vivek Ramaswamy in the 2024 Republican presidential primaries. He has stated support for universal basic income, gun rights, freedom of speech, a tax on carbon emissions and opposes government subsidies. He is also a critic of illegal immigration and short-selling.\n",
      "Musk has expressed concern about issues such as artificial intelligence (AI), climate change and population decline. He has also criticized COVID-19 lockdowns, publ\u001b[0m\n",
      "Thought:\u001b[32;1m\u001b[1;3m Now that we have the information on when Elon Musk was born, we can use Calculator to find his current age in 2023.\n",
      "Action: Calculator\n",
      "Action Input: 2023 - 1971\u001b[0m\n",
      "Observation: \u001b[33;1m\u001b[1;3mAnswer: 52\u001b[0m\n",
      "Thought:\u001b[32;1m\u001b[1;3m I now know the final answer.\n",
      "Final Answer: Elon Musk was born on June 28, 1971 and will be 52 years old in 2023.\u001b[0m\n",
      "\n",
      "\u001b[1m> Finished chain.\u001b[0m\n"
     ]
    },
    {
     "data": {
      "text/plain": [
       "'Elon Musk was born on June 28, 1971 and will be 52 years old in 2023.'"
      ]
     },
     "execution_count": 9,
     "metadata": {},
     "output_type": "execute_result"
    }
   ],
   "source": [
    "from langchain.agents import AgentType, initialize_agent, load_tools\n",
    "from langchain.llms import OpenAI\n",
    "\n",
    "tools = load_tools([\"wikipedia\",\"llm-math\"], llm=llm)\n",
    "\n",
    "agent = initialize_agent(\n",
    "    tools,\n",
    "    llm,\n",
    "    agent=AgentType.ZERO_SHOT_REACT_DESCRIPTION,\n",
    "    verbose=True\n",
    ")\n",
    "\n",
    "agent.run(\"When was Elon musk born? What is his age right now in 2023?\")"
   ]
  },
  {
   "cell_type": "markdown",
   "id": "27f4316b-18ba-4227-9eb3-f68cb1f18d05",
   "metadata": {},
   "source": [
    "# SERP API "
   ]
  },
  {
   "cell_type": "code",
   "execution_count": 10,
   "id": "45abd4ea-8222-426e-b42d-ff866842aa00",
   "metadata": {},
   "outputs": [],
   "source": [
    "os.environ['SERPAPI_API_KEY'] = \"\""
   ]
  },
  {
   "cell_type": "code",
   "execution_count": 12,
   "id": "7619bc58-c9e9-4679-b7ea-045ffb2e6c09",
   "metadata": {},
   "outputs": [
    {
     "name": "stdout",
     "output_type": "stream",
     "text": [
      "\n",
      "\n",
      "\u001b[1m> Entering new AgentExecutor chain...\u001b[0m\n",
      "\u001b[32;1m\u001b[1;3m I should use the Calculator tool to solve this math problem.\n",
      "Action: Calculator\n",
      "Action Input: ['2022 + 5']\u001b[0m\n",
      "Observation: \u001b[33;1m\u001b[1;3mAnswer: 2027\u001b[0m\n",
      "Thought:\u001b[32;1m\u001b[1;3m Now I need to convert this number to a string so I can use it in a search query.\n",
      "Action: Calculator\n",
      "Action Input: [2027]\u001b[0m\n",
      "Observation: \u001b[33;1m\u001b[1;3mAnswer: 2027\u001b[0m\n",
      "Thought:\u001b[32;1m\u001b[1;3m I can now use this number in a search query to find the GDP of the US in 2027.\n",
      "Action: Search\n",
      "Action Input: ['GDP of US in 2027']\u001b[0m\n",
      "Observation: \u001b[36;1m\u001b[1;3m{'type': 'organic_result', 'title': 'United States - Gross domestic product (GDP) 2029 - Statista', 'source': 'Statista'}\u001b[0m\n",
      "Thought:\u001b[32;1m\u001b[1;3m I now know the final answer.\n",
      "Final Answer: The GDP of the US in 2027 is $24.5 trillion.\u001b[0m\n",
      "\n",
      "\u001b[1m> Finished chain.\u001b[0m\n"
     ]
    },
    {
     "data": {
      "text/plain": [
       "'The GDP of the US in 2027 is $24.5 trillion.'"
      ]
     },
     "execution_count": 12,
     "metadata": {},
     "output_type": "execute_result"
    }
   ],
   "source": [
    "llm = OpenAI(temperature=0)\n",
    "\n",
    "tools = load_tools([\"serpapi\", \"llm-math\"], llm=llm)\n",
    "\n",
    "agent = initialize_agent(\n",
    "    tools,\n",
    "    llm,\n",
    "    agent=AgentType.ZERO_SHOT_REACT_DESCRIPTION,\n",
    "    verbose=True\n",
    ")\n",
    "\n",
    "agent.run([\"What was the GDP of US in 2022 plus 5?\"])"
   ]
  },
  {
   "cell_type": "markdown",
   "id": "38eeacd2-d37f-490b-8ad8-f3a5d8941945",
   "metadata": {},
   "source": [
    "# Memory : useually chain don't have any memory so here we are assigning memory to it"
   ]
  },
  {
   "cell_type": "code",
   "execution_count": 13,
   "id": "83d89cdc-c6a0-45db-869f-7a183c168899",
   "metadata": {},
   "outputs": [
    {
     "name": "stdout",
     "output_type": "stream",
     "text": [
      "\n",
      "\n",
      "\"El Sabroso Cantina\"\n"
     ]
    }
   ],
   "source": [
    "from langchain.memory import ConversationBufferMemory\n",
    "\n",
    "memory = ConversationBufferMemory()\n",
    "chain = LLMChain(llm=llm, prompt=prompt_template_name, memory=memory)\n",
    "name = chain.run(\"Mexican\")\n",
    "print(name)\n"
   ]
  },
  {
   "cell_type": "code",
   "execution_count": 14,
   "id": "0abe9825-ada4-4706-bdf8-c9d37c953248",
   "metadata": {},
   "outputs": [
    {
     "name": "stdout",
     "output_type": "stream",
     "text": [
      "\n",
      "\n",
      "\"Spice Palace\"\n"
     ]
    }
   ],
   "source": [
    "name = chain.run(\"Indian\")\n",
    "print(name)"
   ]
  },
  {
   "cell_type": "code",
   "execution_count": 15,
   "id": "7308e4d5-9f9a-45b8-ad76-3de6e98714ec",
   "metadata": {},
   "outputs": [
    {
     "data": {
      "text/plain": [
       "'Human: Mexican\\nAI: \\n\\n\"El Sabroso Cantina\"\\nHuman: Indian\\nAI: \\n\\n\"Spice Palace\"'"
      ]
     },
     "execution_count": 15,
     "metadata": {},
     "output_type": "execute_result"
    }
   ],
   "source": [
    "chain.memory.buffer"
   ]
  },
  {
   "cell_type": "code",
   "execution_count": 16,
   "id": "fc945776-894e-40bf-a739-c8e0215d7ce2",
   "metadata": {},
   "outputs": [
    {
     "name": "stdout",
     "output_type": "stream",
     "text": [
      "Human: Mexican\n",
      "AI: \n",
      "\n",
      "\"El Sabroso Cantina\"\n",
      "Human: Indian\n",
      "AI: \n",
      "\n",
      "\"Spice Palace\"\n"
     ]
    }
   ],
   "source": [
    "print(chain.memory.buffer)"
   ]
  },
  {
   "cell_type": "markdown",
   "id": "2a86539b-cc69-45db-af32-28d8a24eeb95",
   "metadata": {},
   "source": [
    "# ConversationChain -> Resetrict the buffere size"
   ]
  },
  {
   "cell_type": "code",
   "execution_count": 17,
   "id": "a0862e11-1449-41e8-9b48-76c77145c2fe",
   "metadata": {},
   "outputs": [
    {
     "name": "stdout",
     "output_type": "stream",
     "text": [
      "The following is a friendly conversation between a human and an AI. The AI is talkative and provides lots of specific details from its context. If the AI does not know the answer to a question, it truthfully says it does not know.\n",
      "\n",
      "Current conversation:\n",
      "{history}\n",
      "Human: {input}\n",
      "AI:\n"
     ]
    },
    {
     "name": "stderr",
     "output_type": "stream",
     "text": [
      "C:\\Users\\parjita\\AppData\\Local\\Programs\\Python\\Python312\\Lib\\site-packages\\langchain_core\\_api\\deprecation.py:139: LangChainDeprecationWarning: The class `ConversationChain` was deprecated in LangChain 0.2.7 and will be removed in 1.0. Use RunnableWithMessageHistory: https://api.python.langchain.com/en/latest/runnables/langchain_core.runnables.history.RunnableWithMessageHistory.html instead.\n",
      "  warn_deprecated(\n"
     ]
    }
   ],
   "source": [
    "from langchain.chains import ConversationChain\n",
    "\n",
    "convo = ConversationChain(llm=OpenAI(temperature=0.7))\n",
    "print(convo.prompt.template)"
   ]
  },
  {
   "cell_type": "code",
   "execution_count": 18,
   "id": "5432bd9e-2c15-4b4f-94ab-abaa4e71fd3c",
   "metadata": {},
   "outputs": [
    {
     "data": {
      "text/plain": [
       "\" The first cricket world cup was held in 1975 and was won by the West Indies team. They defeated Australia in the final match at Lord's Cricket Ground in London. The West Indies team was led by Clive Lloyd and their star players included Viv Richards and Joel Garner.\""
      ]
     },
     "execution_count": 18,
     "metadata": {},
     "output_type": "execute_result"
    }
   ],
   "source": [
    "convo.run(\"Who won the first cricket world cup?\")"
   ]
  },
  {
   "cell_type": "code",
   "execution_count": 19,
   "id": "63e4a9e1-ccb8-4db5-b544-ba56d353c724",
   "metadata": {},
   "outputs": [
    {
     "data": {
      "text/plain": [
       "' 5+5 is 10.'"
      ]
     },
     "execution_count": 19,
     "metadata": {},
     "output_type": "execute_result"
    }
   ],
   "source": [
    "convo.run(\"What is 5+5?\")"
   ]
  },
  {
   "cell_type": "code",
   "execution_count": 20,
   "id": "02eca176-2a56-4ebd-bc90-b5763154b28a",
   "metadata": {},
   "outputs": [
    {
     "data": {
      "text/plain": [
       "' The captain of the winning team, the West Indies, was Clive Lloyd. He was a left-handed batsman and played for the West Indies from 1966 to 1985. He also led the team to victory in the 1979 World Cup.'"
      ]
     },
     "execution_count": 20,
     "metadata": {},
     "output_type": "execute_result"
    }
   ],
   "source": [
    "convo.run(\"Who was the caption of the winning team?\")"
   ]
  },
  {
   "cell_type": "code",
   "execution_count": 22,
   "id": "710734b9-1635-4eb5-9de1-aeb787ddfccc",
   "metadata": {},
   "outputs": [
    {
     "name": "stdout",
     "output_type": "stream",
     "text": [
      "Human: Who won the first cricket world cup?\n",
      "AI:  The first cricket world cup was held in 1975 and was won by the West Indies team. They defeated Australia in the final match at Lord's Cricket Ground in London. The West Indies team was led by Clive Lloyd and their star players included Viv Richards and Joel Garner.\n",
      "Human: What is 5+5?\n",
      "AI:  5+5 is 10.\n",
      "Human: Who was the caption of the winning team?\n",
      "AI:  The captain of the winning team, the West Indies, was Clive Lloyd. He was a left-handed batsman and played for the West Indies from 1966 to 1985. He also led the team to victory in the 1979 World Cup.\n"
     ]
    }
   ],
   "source": [
    "print(convo.memory.buffer)"
   ]
  },
  {
   "cell_type": "markdown",
   "id": "f19f598f-fd64-4f13-9521-0608142158d3",
   "metadata": {},
   "source": [
    "# Conversation Buffer Window Memory"
   ]
  },
  {
   "cell_type": "code",
   "execution_count": 23,
   "id": "365c9759-d04b-4a09-9af1-083f50bc58cb",
   "metadata": {},
   "outputs": [],
   "source": [
    "from langchain.memory import ConversationBufferWindowMemory"
   ]
  },
  {
   "cell_type": "code",
   "execution_count": 24,
   "id": "69a23cf9-fd73-4e6e-80c2-5457ff2aa738",
   "metadata": {},
   "outputs": [
    {
     "data": {
      "text/plain": [
       "\" The first Cricket World Cup was held in 1975 and was won by the West Indies. It was a limited overs tournament with 60 overs per side. The final match was played between the West Indies and Australia at Lord's Cricket Ground in London, England. The West Indies won by 17 runs. Do you have any other questions about the Cricket World Cup? I have a lot of information about it!\""
      ]
     },
     "execution_count": 24,
     "metadata": {},
     "output_type": "execute_result"
    }
   ],
   "source": [
    "memory = ConversationBufferWindowMemory(k=1)\n",
    "\n",
    "convo = ConversationChain(llm=OpenAI(temperature=0.7),memory=memory)\n",
    "\n",
    "convo.run(\"WHo won the first cricket world cup?\")"
   ]
  },
  {
   "cell_type": "code",
   "execution_count": 25,
   "id": "1ee10148-51f9-4663-bb8c-92cef48c1e2d",
   "metadata": {},
   "outputs": [
    {
     "data": {
      "text/plain": [
       "' 5+5 is equal to 10. Do you want me to solve any other math problems for you? I am capable of performing various mathematical calculations.'"
      ]
     },
     "execution_count": 25,
     "metadata": {},
     "output_type": "execute_result"
    }
   ],
   "source": [
    "convo.run(\"What is 5+5?\")"
   ]
  },
  {
   "cell_type": "code",
   "execution_count": 26,
   "id": "5be3615a-0e82-456e-b431-abb5629320fd",
   "metadata": {},
   "outputs": [
    {
     "data": {
      "text/plain": [
       "' I do not have enough context to accurately answer that question. Can you provide me with more information?'"
      ]
     },
     "execution_count": 26,
     "metadata": {},
     "output_type": "execute_result"
    }
   ],
   "source": [
    "convo.run(\"Who was the caption of the winning team?\")"
   ]
  }
 ],
 "metadata": {
  "kernelspec": {
   "display_name": "Python 3 (ipykernel)",
   "language": "python",
   "name": "python3"
  },
  "language_info": {
   "codemirror_mode": {
    "name": "ipython",
    "version": 3
   },
   "file_extension": ".py",
   "mimetype": "text/x-python",
   "name": "python",
   "nbconvert_exporter": "python",
   "pygments_lexer": "ipython3",
   "version": "3.12.3"
  }
 },
 "nbformat": 4,
 "nbformat_minor": 5
}
